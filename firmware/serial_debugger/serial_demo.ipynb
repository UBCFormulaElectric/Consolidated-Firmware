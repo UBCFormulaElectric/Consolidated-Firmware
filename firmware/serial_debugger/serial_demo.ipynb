{
 "cells": [
  {
   "cell_type": "code",
   "execution_count": 4,
   "metadata": {},
   "outputs": [],
   "source": [
    "import serial\n",
    "import serial.tools.list_ports"
   ]
  },
  {
   "cell_type": "code",
   "execution_count": 5,
   "metadata": {},
   "outputs": [
    {
     "name": "stdout",
     "output_type": "stream",
     "text": [
      "Found COM ports:\n",
      "/dev/cu.Bluetooth-Incoming-Port\n",
      "/dev/cu.usbserial-FT76I8GM\n"
     ]
    }
   ],
   "source": [
    "# List available COM ports.\n",
    "ports = list(serial.tools.list_ports.comports())\n",
    "print(\"Found COM ports:\")\n",
    "for port in ports:\n",
    "    print(port.device)"
   ]
  },
  {
   "cell_type": "code",
   "execution_count": 30,
   "metadata": {},
   "outputs": [
    {
     "ename": "KeyboardInterrupt",
     "evalue": "",
     "output_type": "error",
     "traceback": [
      "\u001b[0;31m---------------------------------------------------------------------------\u001b[0m",
      "\u001b[0;31mKeyboardInterrupt\u001b[0m                         Traceback (most recent call last)",
      "Cell \u001b[0;32mIn[30], line 14\u001b[0m\n\u001b[1;32m     11\u001b[0m ser\u001b[38;5;241m.\u001b[39mwrite(tx_bytes)\n\u001b[1;32m     13\u001b[0m \u001b[38;5;66;03m# Receive data.\u001b[39;00m\n\u001b[0;32m---> 14\u001b[0m rx_bytes \u001b[38;5;241m=\u001b[39m \u001b[43mser\u001b[49m\u001b[38;5;241;43m.\u001b[39;49m\u001b[43mread\u001b[49m\u001b[43m(\u001b[49m\u001b[43mPACKET_SIZE\u001b[49m\u001b[43m)\u001b[49m\n\u001b[1;32m     15\u001b[0m \u001b[38;5;28mprint\u001b[39m(rx_bytes\u001b[38;5;241m.\u001b[39mdecode())\n",
      "File \u001b[0;32m~/.pyenv/versions/3.11.0/lib/python3.11/site-packages/serial/serialposix.py:565\u001b[0m, in \u001b[0;36mSerial.read\u001b[0;34m(self, size)\u001b[0m\n\u001b[1;32m    563\u001b[0m \u001b[38;5;28;01mwhile\u001b[39;00m \u001b[38;5;28mlen\u001b[39m(read) \u001b[38;5;241m<\u001b[39m size:\n\u001b[1;32m    564\u001b[0m     \u001b[38;5;28;01mtry\u001b[39;00m:\n\u001b[0;32m--> 565\u001b[0m         ready, _, _ \u001b[38;5;241m=\u001b[39m select\u001b[38;5;241m.\u001b[39mselect([\u001b[38;5;28mself\u001b[39m\u001b[38;5;241m.\u001b[39mfd, \u001b[38;5;28mself\u001b[39m\u001b[38;5;241m.\u001b[39mpipe_abort_read_r], [], [], timeout\u001b[38;5;241m.\u001b[39mtime_left())\n\u001b[1;32m    566\u001b[0m         \u001b[38;5;28;01mif\u001b[39;00m \u001b[38;5;28mself\u001b[39m\u001b[38;5;241m.\u001b[39mpipe_abort_read_r \u001b[38;5;129;01min\u001b[39;00m ready:\n\u001b[1;32m    567\u001b[0m             os\u001b[38;5;241m.\u001b[39mread(\u001b[38;5;28mself\u001b[39m\u001b[38;5;241m.\u001b[39mpipe_abort_read_r, \u001b[38;5;241m1000\u001b[39m)\n",
      "\u001b[0;31mKeyboardInterrupt\u001b[0m: "
     ]
    }
   ],
   "source": [
    "PACKET_SIZE = 12\n",
    "\n",
    "# Opens a serial connection and sends PACKET_SIZE bytes of data to the target.\n",
    "# The board should echo the exact data back.\n",
    "# NOTE: If you send more or less data in a UART transaction, seems like the\n",
    "# peripheral can get confused...\n",
    "with serial.Serial(\"/dev/cu.usbserial-FT76I8GM\", baudrate=115200) as ser:\n",
    "    # Transmit data.\n",
    "    tx_bytes = \"Hello world!\".encode()\n",
    "    assert len(tx_bytes) == PACKET_SIZE\n",
    "    ser.write(tx_bytes)\n",
    "\n",
    "    # Receive data.\n",
    "    rx_bytes = ser.read(PACKET_SIZE)\n",
    "    print(rx_bytes.decode())"
   ]
  }
 ],
 "metadata": {
  "kernelspec": {
   "display_name": "Python 3",
   "language": "python",
   "name": "python3"
  },
  "language_info": {
   "codemirror_mode": {
    "name": "ipython",
    "version": 3
   },
   "file_extension": ".py",
   "mimetype": "text/x-python",
   "name": "python",
   "nbconvert_exporter": "python",
   "pygments_lexer": "ipython3",
   "version": "3.11.0"
  }
 },
 "nbformat": 4,
 "nbformat_minor": 2
}
