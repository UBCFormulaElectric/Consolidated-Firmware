{
 "cells": [
  {
   "cell_type": "code",
   "execution_count": 1,
   "metadata": {},
   "outputs": [],
   "source": [
    "import serial\n",
    "import serial.tools.list_ports"
   ]
  },
  {
   "cell_type": "code",
   "execution_count": 2,
   "metadata": {},
   "outputs": [
    {
     "name": "stdout",
     "output_type": "stream",
     "text": [
      "Found COM ports:\n",
      "/dev/cu.Bluetooth-Incoming-Port\n",
      "/dev/cu.usbserial-FT76I8GM\n"
     ]
    }
   ],
   "source": [
    "# List available COM ports.\n",
    "ports = list(serial.tools.list_ports.comports())\n",
    "print(\"Found COM ports:\")\n",
    "for port in ports:\n",
    "    print(port.device)"
   ]
  },
  {
   "cell_type": "code",
   "execution_count": 3,
   "metadata": {},
   "outputs": [
    {
     "name": "stdout",
     "output_type": "stream",
     "text": [
      "Hello world!\n"
     ]
    }
   ],
   "source": [
    "PACKET_SIZE = 12\n",
    "\n",
    "# Opens a serial connection and sends PACKET_SIZE bytes of data to the target.\n",
    "# The board should echo the exact data back.\n",
    "# NOTE: If you send more or less data in a UART transaction, seems like the\n",
    "# peripheral can get confused...\n",
    "with serial.Serial(\"/dev/cu.usbserial-FT76I8GM\", baudrate=115200) as ser:\n",
    "    # Transmit data.\n",
    "    tx_bytes = \"Hello world!\".encode()\n",
    "    assert len(tx_bytes) == PACKET_SIZE\n",
    "    ser.write(tx_bytes)\n",
    "\n",
    "    # Receive data.\n",
    "    rx_bytes = ser.read(PACKET_SIZE)\n",
    "    print(rx_bytes.decode())"
   ]
  }
 ],
 "metadata": {
  "kernelspec": {
   "display_name": "Python 3",
   "language": "python",
   "name": "python3"
  },
  "language_info": {
   "codemirror_mode": {
    "name": "ipython",
    "version": 3
   },
   "file_extension": ".py",
   "mimetype": "text/x-python",
   "name": "python",
   "nbconvert_exporter": "python",
   "pygments_lexer": "ipython3",
   "version": "3.11.0"
  }
 },
 "nbformat": 4,
 "nbformat_minor": 2
}
